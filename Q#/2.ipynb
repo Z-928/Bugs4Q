{
 "cells": [
  {
   "cell_type": "markdown",
   "id": "cbc6fe92",
   "metadata": {},
   "source": [
    "## Fixed "
   ]
  },
  {
   "cell_type": "code",
   "execution_count": 2,
   "id": "a7b0c8f8",
   "metadata": {},
   "outputs": [
    {
     "data": {
      "application/x-qsharp-data": "[\"GlobalPhaseI\"]",
      "text/html": [
       "<ul><li>GlobalPhaseI</li></ul>"
      ],
      "text/plain": [
       "GlobalPhaseI"
      ]
     },
     "execution_count": 2,
     "metadata": {
      "application/x-qsharp-data": "",
      "text/html": "",
      "text/plain": ""
     },
     "output_type": "execute_result"
    }
   ],
   "source": [
    "open Microsoft.Quantum.Intrinsic;\n",
    "open Microsoft.Quantum.Math;\n",
    "\n",
    "\n",
    "operation GlobalPhaseI(q:Qubit):Unit is Adj+Ctl{\n",
    "X(q);\n",
    "Z(q);\n",
    "Y(q);\n",
    "}"
   ]
  },
  {
   "cell_type": "markdown",
   "id": "2b49dc45",
   "metadata": {},
   "source": [
    "## Buggy"
   ]
  },
  {
   "cell_type": "code",
   "execution_count": 3,
   "id": "c0365e37",
   "metadata": {},
   "outputs": [
    {
     "data": {
      "application/x-qsharp-data": "{\"Source\":\"namespace Quantum.Kata.SingleQubitGates{\\n    open Microsoft.Quantum.Intrinsic;\\n    open Microsoft.Quantum.Math;\\n\\n\\n    operation GlobalPhaseI(q:Qubit):Unit is Adj+Ctl{\\n    X(q);\\n    Z(q);\\n    Y(q);\\n    }\\n}\",\"Diagnostic\":{\"range\":{\"start\":{\"line\":0,\"character\":0},\"end\":{\"line\":0,\"character\":9}},\"severity\":1,\"code\":\"QS4001\",\"source\":\"/snippet_.qs\",\"message\":\"Namespace declarations can only occur on a global scope.\"},\"Hint\":null}",
      "text/html": [
       "<strong>Error QS4001</strong>: Namespace declarations can only occur on a global scope.\n",
       "<pre><code> 1 | <span style=\"font-weight: bold; text-decoration: underline; text-decoration-style: wavy; text-decoration-color: red\">namespace</span> Quantum.Kata.SingleQubitGates{\n",
       " 2 |     open Microsoft.Quantum.Intrinsic;</code></pre>"
      ],
      "text/plain": [
       "Error QS4001: Namespace declarations can only occur on a global scope.\n",
       " 1 | namespace Quantum.Kata.SingleQubitGates{\n",
       "   | ^^^^^^^^^\n",
       " 2 |     open Microsoft.Quantum.Intrinsic;"
      ]
     },
     "metadata": {
      "application/x-qsharp-data": "",
      "text/html": "",
      "text/plain": ""
     },
     "output_type": "display_data"
    }
   ],
   "source": [
    "namespace Quantum.Kata.SingleQubitGates{\n",
    "    open Microsoft.Quantum.Intrinsic;\n",
    "    open Microsoft.Quantum.Math;\n",
    "\n",
    "\n",
    "    operation GlobalPhaseI(q:Qubit):Unit is Adj+Ctl{\n",
    "    X(q);\n",
    "    Z(q);\n",
    "    Y(q);\n",
    "    }\n",
    "}"
   ]
  },
  {
   "cell_type": "code",
   "execution_count": null,
   "id": "a547bd47",
   "metadata": {},
   "outputs": [],
   "source": []
  }
 ],
 "metadata": {
  "kernelspec": {
   "display_name": "Q#",
   "language": "qsharp",
   "name": "iqsharp"
  },
  "language_info": {
   "file_extension": ".qs",
   "mimetype": "text/x-qsharp",
   "name": "qsharp",
   "version": "0.25"
  }
 },
 "nbformat": 4,
 "nbformat_minor": 5
}
